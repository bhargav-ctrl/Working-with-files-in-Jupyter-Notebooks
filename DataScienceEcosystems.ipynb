{
 "cells": [
  {
   "cell_type": "markdown",
   "id": "25b2dec2-3157-4754-8c76-2450f4c00488",
   "metadata": {},
   "source": [
    "# data science tools and ecosystem\n"
   ]
  },
  {
   "cell_type": "markdown",
   "id": "c700aafc-bdf5-4abd-91e6-c9875220eacb",
   "metadata": {},
   "source": [
    "# In this notebook, Data Science Tools and Ecosystem are summarized"
   ]
  },
  {
   "cell_type": "markdown",
   "id": "8c7f8662-9c69-41ab-bac8-56393655d022",
   "metadata": {},
   "source": [
    "# Some of the popular languages that Data Scientists use are:\n",
    "  "
   ]
  },
  {
   "cell_type": "markdown",
   "id": "ff4fdd8a-aeec-4619-b4d4-cedbef670a68",
   "metadata": {},
   "source": [
    "1. python\n",
    "2. r\n",
    "3. julia"
   ]
  },
  {
   "attachments": {},
   "cell_type": "markdown",
   "id": "6b05e70a-8e02-4747-aecf-a08e9d442fc7",
   "metadata": {},
   "source": [
    "# data science libraries"
   ]
  },
  {
   "cell_type": "markdown",
   "id": "8e2ee4db-106f-42f4-ad54-0f2a33e6d9b8",
   "metadata": {},
   "source": [
    "1. pandas\n",
    "2. numpy\n",
    "3. matplotlib\n",
    "4. scikit-learn\n",
    "5. tensorflow"
   ]
  },
  {
   "cell_type": "markdown",
   "id": "863cd5f1-3f51-44aa-a92a-44cd2e94cab6",
   "metadata": {},
   "source": [
    "# table of data science tools\n"
   ]
  },
  {
   "cell_type": "markdown",
   "id": "c04926e3-bddd-4e35-aea0-6d95fefe611c",
   "metadata": {},
   "source": [
    "|data science tools|\n",
    "|------------------|\n",
    "|apache hadoop     |\n",
    "|apache spark      |\n",
    "|power bi          |"
   ]
  },
  {
   "cell_type": "markdown",
   "id": "43b45bbc-3012-409b-9dde-9ad06653b2f5",
   "metadata": {},
   "source": [
    "### Below are a few examples of evaluating arithmetic expressions in Python"
   ]
  },
  {
   "cell_type": "code",
   "execution_count": 5,
   "id": "81a05ca1-379c-48bd-8ae0-4c34074a8742",
   "metadata": {},
   "outputs": [
    {
     "data": {
      "text/plain": [
       "10"
      ]
     },
     "execution_count": 5,
     "metadata": {},
     "output_type": "execute_result"
    }
   ],
   "source": [
    "(2*3)+4\n",
    "#This a simple arithmetic expression to multiply then add integers"
   ]
  },
  {
   "cell_type": "markdown",
   "id": "5bb6fea5-05f7-4479-9f92-2e469f449242",
   "metadata": {},
   "source": [
    "### converting minutes to hours"
   ]
  },
  {
   "cell_type": "code",
   "execution_count": 6,
   "id": "c1292482-09e7-43a9-8bbc-1577df85d876",
   "metadata": {},
   "outputs": [
    {
     "data": {
      "text/plain": [
       "4.166666666666667"
      ]
     },
     "execution_count": 6,
     "metadata": {},
     "output_type": "execute_result"
    }
   ],
   "source": [
    "(250/60)\n",
    "#This will convert 250 minutes to hours by diving by 60"
   ]
  },
  {
   "cell_type": "markdown",
   "id": "baf4cd68-12ff-42c0-8134-4bff32441d91",
   "metadata": {},
   "source": [
    "### objectives:\n"
   ]
  },
  {
   "cell_type": "markdown",
   "id": "e291a0d5-145e-410d-a87a-8e1f0d8afc0d",
   "metadata": {},
   "source": [
    "- List popular languages for Data Science\n",
    "- data science libraries\n",
    "- data science tools"
   ]
  },
  {
   "cell_type": "markdown",
   "id": "7ba8c488-d127-4eef-9d4f-6632759693c2",
   "metadata": {},
   "source": [
    "## Author\n",
    "   sai\n",
    "   "
   ]
  },
  {
   "cell_type": "code",
   "execution_count": null,
   "id": "a3a7d497-6ac2-46e2-838e-fc7ab8283ff7",
   "metadata": {},
   "outputs": [],
   "source": []
  }
 ],
 "metadata": {
  "kernelspec": {
   "display_name": "Python 3 (ipykernel)",
   "language": "python",
   "name": "python3"
  },
  "language_info": {
   "codemirror_mode": {
    "name": "ipython",
    "version": 3
   },
   "file_extension": ".py",
   "mimetype": "text/x-python",
   "name": "python",
   "nbconvert_exporter": "python",
   "pygments_lexer": "ipython3",
   "version": "3.12.8"
  }
 },
 "nbformat": 4,
 "nbformat_minor": 5
}
